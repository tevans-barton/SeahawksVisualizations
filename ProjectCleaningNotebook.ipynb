{
 "cells": [
  {
   "cell_type": "code",
   "execution_count": 1,
   "metadata": {},
   "outputs": [],
   "source": [
    "import numpy as np\n",
    "import pandas as pd\n",
    "import matplotlib.pyplot as plt"
   ]
  },
  {
   "cell_type": "code",
   "execution_count": 2,
   "metadata": {},
   "outputs": [],
   "source": [
    "#MAKES IT SO ALL COLUMNS DISPLAY\n",
    "pd.set_option('display.max_columns', None)"
   ]
  },
  {
   "cell_type": "code",
   "execution_count": 3,
   "metadata": {},
   "outputs": [
    {
     "ename": "FileNotFoundError",
     "evalue": "[Errno 2] File b'nflplaybyplay2009to2016/NFL Play by Play 2009-2017 (v4).csv' does not exist: b'nflplaybyplay2009to2016/NFL Play by Play 2009-2017 (v4).csv'",
     "output_type": "error",
     "traceback": [
      "\u001b[0;31m---------------------------------------------------------------------------\u001b[0m",
      "\u001b[0;31mFileNotFoundError\u001b[0m                         Traceback (most recent call last)",
      "\u001b[0;32m<ipython-input-3-b6f75ca5607f>\u001b[0m in \u001b[0;36m<module>\u001b[0;34m\u001b[0m\n\u001b[0;32m----> 1\u001b[0;31m \u001b[0mdf\u001b[0m \u001b[0;34m=\u001b[0m \u001b[0mpd\u001b[0m\u001b[0;34m.\u001b[0m\u001b[0mread_csv\u001b[0m\u001b[0;34m(\u001b[0m\u001b[0;34m'nflplaybyplay2009to2016/NFL Play by Play 2009-2017 (v4).csv'\u001b[0m\u001b[0;34m)\u001b[0m\u001b[0;34m\u001b[0m\u001b[0;34m\u001b[0m\u001b[0m\n\u001b[0m",
      "\u001b[0;32m/opt/anaconda3/lib/python3.7/site-packages/pandas/io/parsers.py\u001b[0m in \u001b[0;36mparser_f\u001b[0;34m(filepath_or_buffer, sep, delimiter, header, names, index_col, usecols, squeeze, prefix, mangle_dupe_cols, dtype, engine, converters, true_values, false_values, skipinitialspace, skiprows, skipfooter, nrows, na_values, keep_default_na, na_filter, verbose, skip_blank_lines, parse_dates, infer_datetime_format, keep_date_col, date_parser, dayfirst, cache_dates, iterator, chunksize, compression, thousands, decimal, lineterminator, quotechar, quoting, doublequote, escapechar, comment, encoding, dialect, error_bad_lines, warn_bad_lines, delim_whitespace, low_memory, memory_map, float_precision)\u001b[0m\n\u001b[1;32m    683\u001b[0m         )\n\u001b[1;32m    684\u001b[0m \u001b[0;34m\u001b[0m\u001b[0m\n\u001b[0;32m--> 685\u001b[0;31m         \u001b[0;32mreturn\u001b[0m \u001b[0m_read\u001b[0m\u001b[0;34m(\u001b[0m\u001b[0mfilepath_or_buffer\u001b[0m\u001b[0;34m,\u001b[0m \u001b[0mkwds\u001b[0m\u001b[0;34m)\u001b[0m\u001b[0;34m\u001b[0m\u001b[0;34m\u001b[0m\u001b[0m\n\u001b[0m\u001b[1;32m    686\u001b[0m \u001b[0;34m\u001b[0m\u001b[0m\n\u001b[1;32m    687\u001b[0m     \u001b[0mparser_f\u001b[0m\u001b[0;34m.\u001b[0m\u001b[0m__name__\u001b[0m \u001b[0;34m=\u001b[0m \u001b[0mname\u001b[0m\u001b[0;34m\u001b[0m\u001b[0;34m\u001b[0m\u001b[0m\n",
      "\u001b[0;32m/opt/anaconda3/lib/python3.7/site-packages/pandas/io/parsers.py\u001b[0m in \u001b[0;36m_read\u001b[0;34m(filepath_or_buffer, kwds)\u001b[0m\n\u001b[1;32m    455\u001b[0m \u001b[0;34m\u001b[0m\u001b[0m\n\u001b[1;32m    456\u001b[0m     \u001b[0;31m# Create the parser.\u001b[0m\u001b[0;34m\u001b[0m\u001b[0;34m\u001b[0m\u001b[0;34m\u001b[0m\u001b[0m\n\u001b[0;32m--> 457\u001b[0;31m     \u001b[0mparser\u001b[0m \u001b[0;34m=\u001b[0m \u001b[0mTextFileReader\u001b[0m\u001b[0;34m(\u001b[0m\u001b[0mfp_or_buf\u001b[0m\u001b[0;34m,\u001b[0m \u001b[0;34m**\u001b[0m\u001b[0mkwds\u001b[0m\u001b[0;34m)\u001b[0m\u001b[0;34m\u001b[0m\u001b[0;34m\u001b[0m\u001b[0m\n\u001b[0m\u001b[1;32m    458\u001b[0m \u001b[0;34m\u001b[0m\u001b[0m\n\u001b[1;32m    459\u001b[0m     \u001b[0;32mif\u001b[0m \u001b[0mchunksize\u001b[0m \u001b[0;32mor\u001b[0m \u001b[0miterator\u001b[0m\u001b[0;34m:\u001b[0m\u001b[0;34m\u001b[0m\u001b[0;34m\u001b[0m\u001b[0m\n",
      "\u001b[0;32m/opt/anaconda3/lib/python3.7/site-packages/pandas/io/parsers.py\u001b[0m in \u001b[0;36m__init__\u001b[0;34m(self, f, engine, **kwds)\u001b[0m\n\u001b[1;32m    893\u001b[0m             \u001b[0mself\u001b[0m\u001b[0;34m.\u001b[0m\u001b[0moptions\u001b[0m\u001b[0;34m[\u001b[0m\u001b[0;34m\"has_index_names\"\u001b[0m\u001b[0;34m]\u001b[0m \u001b[0;34m=\u001b[0m \u001b[0mkwds\u001b[0m\u001b[0;34m[\u001b[0m\u001b[0;34m\"has_index_names\"\u001b[0m\u001b[0;34m]\u001b[0m\u001b[0;34m\u001b[0m\u001b[0;34m\u001b[0m\u001b[0m\n\u001b[1;32m    894\u001b[0m \u001b[0;34m\u001b[0m\u001b[0m\n\u001b[0;32m--> 895\u001b[0;31m         \u001b[0mself\u001b[0m\u001b[0;34m.\u001b[0m\u001b[0m_make_engine\u001b[0m\u001b[0;34m(\u001b[0m\u001b[0mself\u001b[0m\u001b[0;34m.\u001b[0m\u001b[0mengine\u001b[0m\u001b[0;34m)\u001b[0m\u001b[0;34m\u001b[0m\u001b[0;34m\u001b[0m\u001b[0m\n\u001b[0m\u001b[1;32m    896\u001b[0m \u001b[0;34m\u001b[0m\u001b[0m\n\u001b[1;32m    897\u001b[0m     \u001b[0;32mdef\u001b[0m \u001b[0mclose\u001b[0m\u001b[0;34m(\u001b[0m\u001b[0mself\u001b[0m\u001b[0;34m)\u001b[0m\u001b[0;34m:\u001b[0m\u001b[0;34m\u001b[0m\u001b[0;34m\u001b[0m\u001b[0m\n",
      "\u001b[0;32m/opt/anaconda3/lib/python3.7/site-packages/pandas/io/parsers.py\u001b[0m in \u001b[0;36m_make_engine\u001b[0;34m(self, engine)\u001b[0m\n\u001b[1;32m   1133\u001b[0m     \u001b[0;32mdef\u001b[0m \u001b[0m_make_engine\u001b[0m\u001b[0;34m(\u001b[0m\u001b[0mself\u001b[0m\u001b[0;34m,\u001b[0m \u001b[0mengine\u001b[0m\u001b[0;34m=\u001b[0m\u001b[0;34m\"c\"\u001b[0m\u001b[0;34m)\u001b[0m\u001b[0;34m:\u001b[0m\u001b[0;34m\u001b[0m\u001b[0;34m\u001b[0m\u001b[0m\n\u001b[1;32m   1134\u001b[0m         \u001b[0;32mif\u001b[0m \u001b[0mengine\u001b[0m \u001b[0;34m==\u001b[0m \u001b[0;34m\"c\"\u001b[0m\u001b[0;34m:\u001b[0m\u001b[0;34m\u001b[0m\u001b[0;34m\u001b[0m\u001b[0m\n\u001b[0;32m-> 1135\u001b[0;31m             \u001b[0mself\u001b[0m\u001b[0;34m.\u001b[0m\u001b[0m_engine\u001b[0m \u001b[0;34m=\u001b[0m \u001b[0mCParserWrapper\u001b[0m\u001b[0;34m(\u001b[0m\u001b[0mself\u001b[0m\u001b[0;34m.\u001b[0m\u001b[0mf\u001b[0m\u001b[0;34m,\u001b[0m \u001b[0;34m**\u001b[0m\u001b[0mself\u001b[0m\u001b[0;34m.\u001b[0m\u001b[0moptions\u001b[0m\u001b[0;34m)\u001b[0m\u001b[0;34m\u001b[0m\u001b[0;34m\u001b[0m\u001b[0m\n\u001b[0m\u001b[1;32m   1136\u001b[0m         \u001b[0;32melse\u001b[0m\u001b[0;34m:\u001b[0m\u001b[0;34m\u001b[0m\u001b[0;34m\u001b[0m\u001b[0m\n\u001b[1;32m   1137\u001b[0m             \u001b[0;32mif\u001b[0m \u001b[0mengine\u001b[0m \u001b[0;34m==\u001b[0m \u001b[0;34m\"python\"\u001b[0m\u001b[0;34m:\u001b[0m\u001b[0;34m\u001b[0m\u001b[0;34m\u001b[0m\u001b[0m\n",
      "\u001b[0;32m/opt/anaconda3/lib/python3.7/site-packages/pandas/io/parsers.py\u001b[0m in \u001b[0;36m__init__\u001b[0;34m(self, src, **kwds)\u001b[0m\n\u001b[1;32m   1915\u001b[0m         \u001b[0mkwds\u001b[0m\u001b[0;34m[\u001b[0m\u001b[0;34m\"usecols\"\u001b[0m\u001b[0;34m]\u001b[0m \u001b[0;34m=\u001b[0m \u001b[0mself\u001b[0m\u001b[0;34m.\u001b[0m\u001b[0musecols\u001b[0m\u001b[0;34m\u001b[0m\u001b[0;34m\u001b[0m\u001b[0m\n\u001b[1;32m   1916\u001b[0m \u001b[0;34m\u001b[0m\u001b[0m\n\u001b[0;32m-> 1917\u001b[0;31m         \u001b[0mself\u001b[0m\u001b[0;34m.\u001b[0m\u001b[0m_reader\u001b[0m \u001b[0;34m=\u001b[0m \u001b[0mparsers\u001b[0m\u001b[0;34m.\u001b[0m\u001b[0mTextReader\u001b[0m\u001b[0;34m(\u001b[0m\u001b[0msrc\u001b[0m\u001b[0;34m,\u001b[0m \u001b[0;34m**\u001b[0m\u001b[0mkwds\u001b[0m\u001b[0;34m)\u001b[0m\u001b[0;34m\u001b[0m\u001b[0;34m\u001b[0m\u001b[0m\n\u001b[0m\u001b[1;32m   1918\u001b[0m         \u001b[0mself\u001b[0m\u001b[0;34m.\u001b[0m\u001b[0munnamed_cols\u001b[0m \u001b[0;34m=\u001b[0m \u001b[0mself\u001b[0m\u001b[0;34m.\u001b[0m\u001b[0m_reader\u001b[0m\u001b[0;34m.\u001b[0m\u001b[0munnamed_cols\u001b[0m\u001b[0;34m\u001b[0m\u001b[0;34m\u001b[0m\u001b[0m\n\u001b[1;32m   1919\u001b[0m \u001b[0;34m\u001b[0m\u001b[0m\n",
      "\u001b[0;32mpandas/_libs/parsers.pyx\u001b[0m in \u001b[0;36mpandas._libs.parsers.TextReader.__cinit__\u001b[0;34m()\u001b[0m\n",
      "\u001b[0;32mpandas/_libs/parsers.pyx\u001b[0m in \u001b[0;36mpandas._libs.parsers.TextReader._setup_parser_source\u001b[0;34m()\u001b[0m\n",
      "\u001b[0;31mFileNotFoundError\u001b[0m: [Errno 2] File b'nflplaybyplay2009to2016/NFL Play by Play 2009-2017 (v4).csv' does not exist: b'nflplaybyplay2009to2016/NFL Play by Play 2009-2017 (v4).csv'"
     ]
    }
   ],
   "source": [
    "df = pd.read_csv('nflplaybyplay2009to2016/NFL Play by Play 2009-2017 (v4).csv')"
   ]
  },
  {
   "cell_type": "code",
   "execution_count": 120,
   "metadata": {},
   "outputs": [],
   "source": [
    "df_unedited = df.copy()"
   ]
  },
  {
   "cell_type": "code",
   "execution_count": 121,
   "metadata": {
    "scrolled": true
   },
   "outputs": [
    {
     "data": {
      "text/plain": [
       "array(['ARI', 'ATL', 'BAL', 'BUF', 'CAR', 'CHI', 'CIN', 'CLE', 'DAL',\n",
       "       'DEN', 'DET', 'GB', 'HOU', 'IND', 'JAC', 'JAX', 'KC', 'LA', 'LAC',\n",
       "       'MIA', 'MIN', 'NE', 'NO', 'NYG', 'NYJ', 'OAK', 'PHI', 'PIT', 'SD',\n",
       "       'SEA', 'SF', 'STL', 'TB', 'TEN', 'WAS'], dtype=object)"
      ]
     },
     "execution_count": 121,
     "metadata": {},
     "output_type": "execute_result"
    }
   ],
   "source": [
    "np.sort(df['HomeTeam'].unique())"
   ]
  },
  {
   "cell_type": "code",
   "execution_count": 122,
   "metadata": {},
   "outputs": [],
   "source": [
    "divisions = {\n",
    "    'GB' : 'NFC North',\n",
    "    'CHI' : 'NFC North',\n",
    "    'MIN' : 'NFC North',\n",
    "    'DET' : 'NFC North',\n",
    "    'PHI' : 'NFC East',\n",
    "    'NYG' : 'NFC East', \n",
    "    'DAL' : 'NFC East', \n",
    "    'WAS' : 'NFC East',\n",
    "    'NO' : 'NFC South',\n",
    "    'CAR' : 'NFC South', \n",
    "    'TB' : 'NFC South', \n",
    "    'ATL' : 'NFC South',\n",
    "    'SF' : 'NFC West',\n",
    "    'LA' : 'NFC West', \n",
    "    'STL' : 'NFC West', \n",
    "    'ARI' : 'NFC West', \n",
    "    'SEA' : 'NFC West',\n",
    "    'BAL' : 'AFC North', \n",
    "    'PIT' : 'AFC North', \n",
    "    'CLE' : 'AFC North', \n",
    "    'CIN' : 'AFC North',\n",
    "    'NE' : 'AFC East',\n",
    "    'MIA' : 'AFC East', \n",
    "    'BUF' : 'AFC East', \n",
    "    'NYJ' : 'AFC East',\n",
    "    'JAX' : 'AFC South', \n",
    "    'JAC' : 'AFC South', \n",
    "    'HOU' : 'AFC South', \n",
    "    'TEN' : 'AFC South', \n",
    "    'IND' : 'AFC South',\n",
    "    'SD' : 'AFC West', \n",
    "    'LAC' : 'AFC West', \n",
    "    'OAK' : 'AFC West',\n",
    "    'DEN': 'AFC West',\n",
    "    'KC' : 'AFC West'\n",
    "}"
   ]
  },
  {
   "cell_type": "code",
   "execution_count": 123,
   "metadata": {},
   "outputs": [],
   "source": [
    "adv_stats_dict = {\n",
    "    'ExpPts' : ('The value of the current down, distance, and field position situation in terms of future' + \n",
    "                'expected net point advantage. In other words, it is the net point value a team can expect' + \n",
    "                'given a particular combination of down, distance, and field position. First and goal' + \n",
    "                'at the one represents an EP near 6, while 3rd and 20 at a team\\'s own one yard line' + \n",
    "                'represents an EP of about -2. EP differs from Win Probability (WP) in that it does' + \n",
    "                'not take into account the game score and time remaining.'),\n",
    "    'EPA' : ('The difference between the Expected Points (EP) at the start of a play and the EP' + \n",
    "             'at the end of they play. EPA is the measure of a play’s impact on the score of the game.' + \n",
    "             ' An individual player’s EPA is the sum of the EPA of the plays in which that player was' + \n",
    "             'directly involved. Being directly involved is defined as an offensive player who ran,' + \n",
    "             ' threw, or kicked the ball, was targeted by a pass, or flagged for a penalty.'),\n",
    "    'Home_WP_pre' : ('The probability that a team will win a game in progress, given a particular' + \n",
    "                  ' combination of circumstances including score, time remaining, field position,' + \n",
    "                  ' down, and to go distance. WP is based on a model built on actual outcomes of NFL games' + \n",
    "                  'from recent seasons that featured similar circumstances.'),\n",
    "    'WPA' : (\"The difference between a team’s Win Probability (WP) at the start of a play\" + \n",
    "             \" and the WP at the end of the play. WPA is the measure of a play’s impact on\" + \n",
    "             \" the outcome of a game. An individual player’s WPA is the sum of the WPA of\" +  \n",
    "             \" the plays in which that player was directly involved. Being directly involved\" + \n",
    "             \" is defined as an offensive player who ran, threw, or kicked the ball, was targeted\" + \n",
    "             \" by a pass, or flagged for a penalty. Defensive players are credited for WPA when they\" +  \n",
    "             \" tackle or sack the ball carrier, are credited with an assisted tackle or sack, cause a fumble,\" +\n",
    "             \" defend a pass, or are flagged for a penalty.\")\n",
    "}"
   ]
  },
  {
   "cell_type": "code",
   "execution_count": 124,
   "metadata": {},
   "outputs": [],
   "source": [
    "#df = df.drop(['Date', 'yrdln', 'time', 'TimeUnder', \n",
    "#              'PlayTimeDiff', 'PlayAttempted', 'sp', \n",
    "#              'Interceptor', 'Rusher', 'Rusher_ID', 'Receiver', \n",
    "#              'Receiver_ID', 'Returner', 'BlockingPlayer', 'Tackler1', \n",
    "#              'Tackler2', 'RecFumbPlayer', 'Challenge.Replay', 'ChalReplayResult', \n",
    "#              'PenalizedPlayer', 'ScoreDiff', 'AbsScoreDiff', 'airEPA', 'yacEPA', 'Away_WP_pre', \n",
    "#              'Away_WP_post', 'airWPA', 'yacWPA', 'Timeout_Indicator', 'Timeout_Team', \n",
    "#              'posteam_timeouts_pre', 'HomeTimeouts_Remaining_Pre', 'AwayTimeouts_Remaining_Pre', \n",
    "#              'HomeTimeouts_Remaining_Post', 'AwayTimeouts_Remaining_Post', 'Win_Prob', \n",
    "#              'No_Score_Prob', 'Opp_Field_Goal_Prob', 'Opp_Safety_Prob', 'Opp_Touchdown_Prob', \n",
    "#              'Field_Goal_Prob', 'Safety_Prob', 'Touchdown_Prob', 'ExPoint_Prob', 'TwoPoint_Prob'], axis = 1)"
   ]
  },
  {
   "cell_type": "code",
   "execution_count": 125,
   "metadata": {},
   "outputs": [],
   "source": [
    "#GAMES THAT ACTUALLY HAVE AN ENDGAME ENTRY FOR WINNER/LOSER\n",
    "games_with_endgame = set(df[df['desc'] == 'END GAME']['GameID'])"
   ]
  },
  {
   "cell_type": "code",
   "execution_count": 126,
   "metadata": {},
   "outputs": [],
   "source": [
    "game_ids = list(df['GameID'].unique())"
   ]
  },
  {
   "cell_type": "code",
   "execution_count": 127,
   "metadata": {},
   "outputs": [],
   "source": [
    "def home_score(row):\n",
    "    if row['posteam'] == row['HomeTeam']:\n",
    "        return row['PosTeamScore']\n",
    "    else:\n",
    "        return row['DefTeamScore']\n",
    "def away_score(row):\n",
    "    if row['posteam'] == row['AwayTeam']:\n",
    "        return row['PosTeamScore']\n",
    "    else:\n",
    "        return row['DefTeamScore']\n",
    "def make_divisions(row):\n",
    "    if divisions[row['HomeTeam']] == divisions[row['AwayTeam']]:\n",
    "        return True\n",
    "    else:\n",
    "        return False\n",
    "def make_conferences(row):\n",
    "    if divisions[row['HomeTeam']][0:3] == divisions[row['AwayTeam']][0:3]:\n",
    "        return True\n",
    "    else:\n",
    "        return False"
   ]
  },
  {
   "cell_type": "code",
   "execution_count": 128,
   "metadata": {},
   "outputs": [],
   "source": [
    "df['HomeScore'] = df.apply(lambda x : home_score(x), axis = 1)"
   ]
  },
  {
   "cell_type": "code",
   "execution_count": 129,
   "metadata": {},
   "outputs": [],
   "source": [
    "df['AwayScore'] = df.apply(lambda x : away_score(x), axis = 1)"
   ]
  },
  {
   "cell_type": "code",
   "execution_count": 130,
   "metadata": {},
   "outputs": [],
   "source": [
    "df['Divisional'] = df.apply(lambda x : make_divisions(x), axis = 1)"
   ]
  },
  {
   "cell_type": "code",
   "execution_count": 131,
   "metadata": {},
   "outputs": [],
   "source": [
    "df['Conference'] = df.apply(lambda x : make_conferences(x), axis = 1)"
   ]
  },
  {
   "cell_type": "code",
   "execution_count": 132,
   "metadata": {},
   "outputs": [],
   "source": [
    "#FIXES END OF GAME ISSUES\n",
    "df['HomeScore'] = df['HomeScore'].fillna(method = 'ffill')\n",
    "df['AwayScore'] = df['AwayScore'].fillna(method = 'ffill')"
   ]
  },
  {
   "cell_type": "code",
   "execution_count": 133,
   "metadata": {},
   "outputs": [],
   "source": [
    "#GAMES THAT END ON A PLAY AS OPPOSED TO HAVING AN ENDGAME ENTRY\n",
    "games_end_on_play = list(df[[df['GameID'][x] not in games_with_endgame for x in range(len(df))]]['GameID'].unique())"
   ]
  },
  {
   "cell_type": "code",
   "execution_count": 134,
   "metadata": {},
   "outputs": [],
   "source": [
    "games_end_on_play_df = df[[df['GameID'][x] in games_end_on_play for x in range(len(df))]]"
   ]
  },
  {
   "cell_type": "code",
   "execution_count": 26,
   "metadata": {},
   "outputs": [],
   "source": [
    "#TAKES ~5 MINUTES TO RUN\n",
    "games_end_indices = []\n",
    "for x in range(len(games_end_on_play)):\n",
    "    games_end_indices.append(games_end_on_play_df.where(games_end_on_play_df['GameID'] == games_end_on_play[x]).last_valid_index())"
   ]
  },
  {
   "cell_type": "code",
   "execution_count": 136,
   "metadata": {},
   "outputs": [
    {
     "name": "stderr",
     "output_type": "stream",
     "text": [
      "/opt/anaconda3/lib/python3.7/site-packages/ipykernel_launcher.py:8: FutureWarning: set_value is deprecated and will be removed in a future release. Please use .at[] or .iat[] accessors instead\n",
      "  \n",
      "/opt/anaconda3/lib/python3.7/site-packages/ipykernel_launcher.py:11: FutureWarning: set_value is deprecated and will be removed in a future release. Please use .at[] or .iat[] accessors instead\n",
      "  # This is added back by InteractiveShellApp.init_path()\n",
      "/opt/anaconda3/lib/python3.7/site-packages/ipykernel_launcher.py:43: FutureWarning: set_value is deprecated and will be removed in a future release. Please use .at[] or .iat[] accessors instead\n",
      "/opt/anaconda3/lib/python3.7/site-packages/ipykernel_launcher.py:53: FutureWarning: set_value is deprecated and will be removed in a future release. Please use .at[] or .iat[] accessors instead\n",
      "/opt/anaconda3/lib/python3.7/site-packages/ipykernel_launcher.py:32: FutureWarning: set_value is deprecated and will be removed in a future release. Please use .at[] or .iat[] accessors instead\n",
      "/opt/anaconda3/lib/python3.7/site-packages/ipykernel_launcher.py:22: FutureWarning: set_value is deprecated and will be removed in a future release. Please use .at[] or .iat[] accessors instead\n",
      "/opt/anaconda3/lib/python3.7/site-packages/ipykernel_launcher.py:60: FutureWarning: set_value is deprecated and will be removed in a future release. Please use .at[] or .iat[] accessors instead\n",
      "/opt/anaconda3/lib/python3.7/site-packages/ipykernel_launcher.py:57: FutureWarning: set_value is deprecated and will be removed in a future release. Please use .at[] or .iat[] accessors instead\n"
     ]
    }
   ],
   "source": [
    "for x in games_end_indices:\n",
    "    home_team = df.loc[x]['HomeTeam']\n",
    "    away_team = df.loc[x]['AwayTeam']\n",
    "    pos_team = df.loc[x]['posteam']\n",
    "    if df.loc[x]['FieldGoalResult'] == 'Good':\n",
    "        if pos_team == home_team:\n",
    "            val = df.loc[x]['HomeScore'] + 3\n",
    "            df.set_value(x, 'HomeScore', val)\n",
    "        else:\n",
    "            val = df.loc[x]['AwayScore'] + 3\n",
    "            df.set_value(x, 'AwayScore', val)\n",
    "    elif ('FUMBLES' in df.loc[x]['desc'] or 'INTERCEPTED' in df.loc[x]['desc'] or 'BLOCKED' in df.loc[x]['desc']) and 'TOUCHDOWN' in df.loc[x]['desc']:\n",
    "        if pos_team == home_team:\n",
    "            if df.loc[x]['ExPointResult'] == 'Made':\n",
    "                val = df.loc[x]['AwayScore'] + 7\n",
    "                df.set_value(x, 'AwayScore', val)\n",
    "            elif df.loc[x]['TwoPointConv'] == 'Success':\n",
    "                val = df.loc[x]['AwayScore'] + 8\n",
    "                df.set_value(x, 'AwayScore', val)\n",
    "            else:\n",
    "                val = df.loc[x]['AwayScore'] + 6\n",
    "                df.set_value(x, 'AwayScore', val)\n",
    "        else:\n",
    "            if df.loc[x]['ExPointResult'] == 'Made':\n",
    "                val = df.loc[x]['HomeScore'] + 7\n",
    "                df.set_value(x, 'HomeScore', val)\n",
    "            elif df.loc[x]['TwoPointConv'] == 'Success':\n",
    "                val = df.loc[x]['HomeScore'] + 8\n",
    "                df.set_value(x, 'HomeScore', val)\n",
    "            else:\n",
    "                val = df.loc[x]['HomeScore'] + 6\n",
    "                df.set_value(x, 'HomeScore', val)\n",
    "    elif 'TOUCHDOWN' in df.loc[x]['desc']:\n",
    "        if pos_team == away_team:\n",
    "            if df.loc[x]['ExPointResult'] == 'Made':\n",
    "                val = df.loc[x]['AwayScore'] + 7\n",
    "                df.set_value(x, 'AwayScore', val)\n",
    "            elif df.loc[x]['TwoPointConv'] == 'Success':\n",
    "                val = df.loc[x]['AwayScore'] + 8\n",
    "                df.set_value(x, 'AwayScore', val)\n",
    "            else:\n",
    "                val = df.loc[x]['AwayScore'] + 6\n",
    "                df.set_value(x, 'AwayScore', val)\n",
    "        else:\n",
    "            if df.loc[x]['ExPointResult'] == 'Made':\n",
    "                val = df.loc[x]['HomeScore'] + 7\n",
    "                df.set_value(x, 'HomeScore', val)\n",
    "            elif df.loc[x]['TwoPointConv'] == 'Success':\n",
    "                val = df.loc[x]['HomeScore'] + 8\n",
    "                df.set_value(x, 'HomeScore', val)\n",
    "            else:\n",
    "                val = df.loc[x]['HomeScore'] + 6\n",
    "                df.set_value(x, 'HomeScore', val)\n",
    "    elif 'SAFETY' in df.loc[x]['desc']:\n",
    "        if pos_team == home_team:\n",
    "            val = df.loc[x]['AwayScore'] + 2\n",
    "            df.set_value(x, 'AwayScore', val)\n",
    "        else:\n",
    "            val = df.loc[x]['HomeScore'] + 2\n",
    "            df.set_value(x, 'HomeScore', val)"
   ]
  },
  {
   "cell_type": "code",
   "execution_count": 145,
   "metadata": {},
   "outputs": [],
   "source": [
    "df = df.drop(['Date', 'yrdln', 'time', 'TimeUnder', \n",
    "             'PlayTimeDiff', 'PlayAttempted', 'sp', \n",
    "              'Interceptor', 'Rusher', 'Rusher_ID', 'Receiver', \n",
    "              'Receiver_ID', 'Returner', 'BlockingPlayer', 'Tackler1', \n",
    "              'Tackler2', 'RecFumbPlayer', 'Challenge.Replay', 'ChalReplayResult', \n",
    "              'PenalizedPlayer', 'ScoreDiff', 'AbsScoreDiff', 'airEPA', 'yacEPA', 'Away_WP_pre', \n",
    "              'Away_WP_post', 'airWPA', 'yacWPA', 'Timeout_Indicator', 'Timeout_Team', \n",
    "              'posteam_timeouts_pre', 'HomeTimeouts_Remaining_Pre', 'AwayTimeouts_Remaining_Pre', \n",
    "              'HomeTimeouts_Remaining_Post', 'AwayTimeouts_Remaining_Post', 'Win_Prob', \n",
    "              'No_Score_Prob', 'Opp_Field_Goal_Prob', 'Opp_Safety_Prob', 'Opp_Touchdown_Prob', \n",
    "              'Field_Goal_Prob', 'Safety_Prob', 'Touchdown_Prob', 'ExPoint_Prob', 'TwoPoint_Prob'], axis = 1)"
   ]
  },
  {
   "cell_type": "code",
   "execution_count": 146,
   "metadata": {},
   "outputs": [],
   "source": [
    "df.to_csv('cleaned_nfl_data.csv')"
   ]
  }
 ],
 "metadata": {
  "kernelspec": {
   "display_name": "Python 3",
   "language": "python",
   "name": "python3"
  },
  "language_info": {
   "codemirror_mode": {
    "name": "ipython",
    "version": 3
   },
   "file_extension": ".py",
   "mimetype": "text/x-python",
   "name": "python",
   "nbconvert_exporter": "python",
   "pygments_lexer": "ipython3",
   "version": "3.7.4"
  }
 },
 "nbformat": 4,
 "nbformat_minor": 2
}
